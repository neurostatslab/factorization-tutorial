{
 "cells": [
  {
   "cell_type": "code",
   "execution_count": 1,
   "metadata": {
    "ExecuteTime": {
     "end_time": "2022-08-18T03:20:11.066229Z",
     "start_time": "2022-08-18T03:20:09.221531Z"
    }
   },
   "outputs": [],
   "source": [
    "import numpy as np\n",
    "import matplotlib.pyplot as plt\n",
    "from sklearn.decomposition import PCA, NMF\n",
    "import pandas as pd"
   ]
  },
  {
   "cell_type": "code",
   "execution_count": 2,
   "metadata": {
    "ExecuteTime": {
     "end_time": "2022-08-18T03:21:07.256398Z",
     "start_time": "2022-08-18T03:21:06.548582Z"
    }
   },
   "outputs": [],
   "source": [
    "data = pd.read_csv('data_reduced.csv',index_col=0)\n",
    "metadata = pd.read_csv('metadata_reduced.csv',index_col=0)"
   ]
  },
  {
   "cell_type": "markdown",
   "metadata": {},
   "source": [
    "# 1. normalize data\n",
    " Now you have the raw data in data.data, which is a n_cell x n_gene matrix.\n",
    " First normalize the data such that the analysis won't be dominated by a\n",
    " few genes with very high expression counts. \n",
    " There are many different ways to normalize, but we will normalize such\n",
    " that the standard deviation of each columns is 1.\n",
    " We will work with the normalized data for all the later sections.\n"
   ]
  },
  {
   "cell_type": "code",
   "execution_count": null,
   "metadata": {},
   "outputs": [],
   "source": []
  },
  {
   "cell_type": "markdown",
   "metadata": {},
   "source": [
    "# 2. visualize data\n",
    "Visualize the normalized data using heatmap."
   ]
  },
  {
   "cell_type": "code",
   "execution_count": null,
   "metadata": {},
   "outputs": [],
   "source": []
  },
  {
   "cell_type": "markdown",
   "metadata": {},
   "source": [
    "# 3. sweep run nmf \n",
    " Run NMF using different k,(i.e. number of components) (e.g. 1-10, which takes 20s on my laptop). Plot the reconstruction error as a function of \n",
    " the number of components. \n",
    " Make sure to store the resulting Ws and Hs. They will be used later.\n"
   ]
  },
  {
   "cell_type": "code",
   "execution_count": null,
   "metadata": {},
   "outputs": [],
   "source": []
  },
  {
   "cell_type": "markdown",
   "metadata": {},
   "source": [
    "# 4. visualize W, H, data and the reconstructed data\n",
    " Pick a k and visualize W, H. Reconstruct the data from the fitted W and\n",
    " H, compare the reconstructed data with the original data.\n"
   ]
  },
  {
   "cell_type": "code",
   "execution_count": null,
   "metadata": {},
   "outputs": [],
   "source": []
  },
  {
   "cell_type": "markdown",
   "metadata": {},
   "source": [
    "# [IMPORTANT] 5. sort W and H for better interpretations; plot the sorted, W, H, data, and the reconstruction\n",
    "\n",
    " You might find the visualization in the previous section to be not so\n",
    " illuminating. We shall now sort W and H for better interpretations.\n",
    "\n",
    " Hint: for each row (cell) in W, find the component where it participates the\n",
    " most, and \"assign\" the cell to that component. Within each component, sort the cells belonging \n",
    " to the component. \n",
    "\n",
    " p.s. This step will be repeated a few times so we recommend wrapping it\n",
    " up inside a function. You may want to store the sorted_index for this and\n",
    " the next step."
   ]
  },
  {
   "cell_type": "code",
   "execution_count": null,
   "metadata": {},
   "outputs": [],
   "source": []
  },
  {
   "cell_type": "markdown",
   "metadata": {},
   "source": [
    "# 6. compare different NMF with different ranks; compare the old and new sorting on the new fit\n",
    " Repeat step 5, but with a higher number of components (e.g., 5).  \n",
    " In addition, we could apply the sorting we obtained from before on this\n",
    " fitted result. Compare the two sortings on this fit."
   ]
  },
  {
   "cell_type": "code",
   "execution_count": null,
   "metadata": {},
   "outputs": [],
   "source": []
  },
  {
   "cell_type": "markdown",
   "metadata": {},
   "source": [
    "# 7. compare W with the ground truth cluster\n",
    " Now we want to check whether NMF gives us similar grouping of cells as\n",
    " given by the clustering done in the original paper. The cluster\n",
    " assignment is given in metadata['7.clust_all']. "
   ]
  },
  {
   "cell_type": "code",
   "execution_count": null,
   "metadata": {},
   "outputs": [],
   "source": []
  },
  {
   "cell_type": "markdown",
   "metadata": {},
   "source": [
    "# 8. compare with pca\n",
    " Fit a PCA and repeat step 5. Compare the result with NMF. You may use the pca\n",
    " function in the Statistics and Machine Learning Toolbox.\n",
    "\n",
    "\n"
   ]
  },
  {
   "cell_type": "code",
   "execution_count": null,
   "metadata": {},
   "outputs": [],
   "source": []
  },
  {
   "cell_type": "markdown",
   "metadata": {},
   "source": [
    "# 9. compare the factors across two fits\n",
    " Fitting a PCA with 5 PCs, one will get the 4 PCs obtained from fitting a\n",
    " PCA with 4 PCs. Let's check whether this holds for NMF. Compare the\n",
    " similarity bewteen the Ws obtained from a rank-4 NMF and a rank-5 NMF.\n",
    " \n",
    " Hint: you may do a 4 x 5 grid, for each subplot (i,j), do a scatter plot\n",
    " of the i, j-th column of the corresponding W from the rank-4 and rank-5 NMF.\n",
    "\n"
   ]
  },
  {
   "cell_type": "code",
   "execution_count": null,
   "metadata": {},
   "outputs": [],
   "source": []
  }
 ],
 "metadata": {
  "kernelspec": {
   "display_name": "Python 3",
   "language": "python",
   "name": "python3"
  },
  "language_info": {
   "codemirror_mode": {
    "name": "ipython",
    "version": 3
   },
   "file_extension": ".py",
   "mimetype": "text/x-python",
   "name": "python",
   "nbconvert_exporter": "python",
   "pygments_lexer": "ipython3",
   "version": "3.6.10"
  },
  "varInspector": {
   "cols": {
    "lenName": 16,
    "lenType": 16,
    "lenVar": 40
   },
   "kernels_config": {
    "python": {
     "delete_cmd_postfix": "",
     "delete_cmd_prefix": "del ",
     "library": "var_list.py",
     "varRefreshCmd": "print(var_dic_list())"
    },
    "r": {
     "delete_cmd_postfix": ") ",
     "delete_cmd_prefix": "rm(",
     "library": "var_list.r",
     "varRefreshCmd": "cat(var_dic_list()) "
    }
   },
   "types_to_exclude": [
    "module",
    "function",
    "builtin_function_or_method",
    "instance",
    "_Feature"
   ],
   "window_display": false
  }
 },
 "nbformat": 4,
 "nbformat_minor": 4
}
